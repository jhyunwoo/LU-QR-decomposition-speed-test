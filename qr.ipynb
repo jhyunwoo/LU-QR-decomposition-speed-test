{
 "cells": [
  {
   "cell_type": "code",
   "execution_count": 3,
   "metadata": {},
   "outputs": [
    {
     "name": "stdout",
     "output_type": "stream",
     "text": [
      "array([[ 12, -51,   4],\n",
      "       [  6, 167, -68],\n",
      "       [ -4,  24, -41]])\n",
      "array([[-0.85714286,  0.39428571,  0.33142857],\n",
      "       [-0.42857143, -0.90285714, -0.03428571],\n",
      "       [ 0.28571429, -0.17142857,  0.94285714]])\n",
      "array([[ -14.,  -21.,   14.],\n",
      "       [   0., -175.,   70.],\n",
      "       [   0.,    0.,  -35.]])\n"
     ]
    }
   ],
   "source": [
    "import pprint\n",
    "import scipy\n",
    "import scipy.linalg  \n",
    "import numpy as np\n",
    "\n",
    "A = np.array([[12, -51, 4], [6, 167, -68], [-4, 24, -41]])  # From the Wikipedia Article on QR Decomposition\n",
    "Q, R = scipy.linalg.qr(A)\n",
    "\n",
    "pprint.pprint(A)\n",
    "pprint.pprint(Q)\n",
    "pprint.pprint(R)"
   ]
  },
  {
   "cell_type": "code",
   "execution_count": null,
   "metadata": {},
   "outputs": [],
   "source": []
  }
 ],
 "metadata": {
  "kernelspec": {
   "display_name": "qr-vs-lu",
   "language": "python",
   "name": "python3"
  },
  "language_info": {
   "codemirror_mode": {
    "name": "ipython",
    "version": 3
   },
   "file_extension": ".py",
   "mimetype": "text/x-python",
   "name": "python",
   "nbconvert_exporter": "python",
   "pygments_lexer": "ipython3",
   "version": "3.11.3"
  },
  "orig_nbformat": 4
 },
 "nbformat": 4,
 "nbformat_minor": 2
}
